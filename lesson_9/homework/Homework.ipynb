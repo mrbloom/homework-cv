{
 "cells": [
  {
   "cell_type": "markdown",
   "metadata": {},
   "source": [
    "# HOMEWORK 9\n",
    "\n",
    "In this homework, you are going to use the dlib face detector and apply it to an image of your liking. You can follow the procedure shown in lesson 9. Please always comment your code so I can see what you're doing :-)\n",
    "\n",
    "For this homework we are not going to provide you with any code, you'll have to build the face detector on your own."
   ]
  },
  {
   "cell_type": "markdown",
   "metadata": {},
   "source": [
    "### Step 0\n",
    "\n",
    "Run the necessary imports."
   ]
  },
  {
   "cell_type": "markdown",
   "metadata": {},
   "source": [
    "### Step 1\n",
    "\n",
    "Load an image (any image that contains faces)."
   ]
  },
  {
   "cell_type": "code",
   "execution_count": 6,
   "metadata": {
    "tags": []
   },
   "outputs": [],
   "source": []
  },
  {
   "cell_type": "code",
   "execution_count": null,
   "metadata": {
    "tags": []
   },
   "outputs": [],
   "source": [
    "import dlib\n",
    "# Let's load the detector\n",
    "\n",
    "# Detect faces, see http://dlib.net/face_detector.py.html\n",
    "# 1 --> upsampling factor\n",
    "import numpy as np\n",
    "from ipywidgets import Video\n",
    "from IPython.display import display\n",
    "import cv2\n",
    "import math\n",
    "\n",
    "detector = dlib.get_frontal_face_detector()\n",
    "\n",
    "def rect_to_bb(rect):\n",
    "    # Dlib rect --> OpenCV rect\n",
    "    x = rect.left()\n",
    "    y = rect.top()\n",
    "    w = rect.right() - x\n",
    "    h = rect.bottom() - y\n",
    "\n",
    "    return (x, y, w, h)\n",
    "\n",
    "def draw_rectangles(img_rgb):\n",
    "    rects = detector(img_rgb, 1)\n",
    "\n",
    "# print('Number of detected faces:', len(rects))\n",
    "# print(rects)\n",
    "# print(rects[0].left)\n",
    "    # Draw rectangle around each face\n",
    "    result_dlib = np.copy(img_rgb)\n",
    "    # faces_dlib_img = []\n",
    "    for rect in rects:    \n",
    "        # Draw rectangle around the face\n",
    "        x, y, w, h = rect_to_bb(rect)\n",
    "        # print(x, y, w, h)\n",
    "        cv2.rectangle(result_dlib, (x, y), (x+w, y+h), (0, 255, 0), 3)\n",
    "        # faces_dlib_img.append(img_rgb[y:y+h, x:x+w, :])\n",
    "    return img_rgb\n",
    "\n",
    "\n",
    "# Function to draw on frames\n",
    "def draw_on_frame(frame):\n",
    "    # Convert image to gray scale\n",
    "    # gray = cv2.cvtColor(frame, cv2.COLOR_RGB2GRAY) \n",
    "    \n",
    "    return draw_rectangles(frame)\n",
    "\n",
    "# Open the original video\n",
    "cap = cv2.VideoCapture('../data/stupid_faces.mp4')\n",
    "\n",
    "# Get video properties\n",
    "fps = cap.get(cv2.CAP_PROP_FPS)\n",
    "width = int(cap.get(cv2.CAP_PROP_FRAME_WIDTH))\n",
    "height = int(cap.get(cv2.CAP_PROP_FRAME_HEIGHT))\n",
    "fourcc = cv2.VideoWriter_fourcc(*'mp4v')  # Define the codec\n",
    "\n",
    "# Create a VideoWriter object to write the video\n",
    "out = cv2.VideoWriter('../data/stupid_faces_out.mp4', fourcc, fps, (width, height))\n",
    "\n",
    "# Process the video frames\n",
    "while cap.isOpened():\n",
    "    ret, frame = cap.read()\n",
    "    if not ret:\n",
    "        break\n",
    "    # Draw on frame\n",
    "    frame = draw_on_frame(frame)\n",
    "    # Write the frame to the output video\n",
    "    out.write(frame)\n",
    "\n",
    "\n",
    "# Release resources\n",
    "cap.release()\n",
    "out.release()\n",
    "\n",
    "# Display the modified video in Jupyter Lab\n",
    "video_widget = Video.from_file('../data/output_modified.mp4')\n",
    "display(video_widget)"
   ]
  },
  {
   "cell_type": "markdown",
   "metadata": {},
   "source": [
    "### Step 2\n",
    "\n",
    "Load the dlib face predictor."
   ]
  },
  {
   "cell_type": "markdown",
   "metadata": {},
   "source": [
    "### Step 3\n",
    "\n",
    "Run the predictor on your image."
   ]
  },
  {
   "cell_type": "markdown",
   "metadata": {},
   "source": [
    "### Step 4\n",
    "\n",
    "Draw bounding boxes around the detected faces and plot the image. Use different colour for each face."
   ]
  },
  {
   "cell_type": "markdown",
   "metadata": {},
   "source": [
    "### Step 5 (optional)\n",
    "\n",
    "Repeat the process with a different and more challenging image (more faces, smaller faces, people with glasses, hats, helmets, etc.). How does the detector perform? Is it robust?"
   ]
  }
 ],
 "metadata": {
  "kernelspec": {
   "display_name": "Python 3 (ipykernel)",
   "language": "python",
   "name": "python3"
  },
  "language_info": {
   "codemirror_mode": {
    "name": "ipython",
    "version": 3
   },
   "file_extension": ".py",
   "mimetype": "text/x-python",
   "name": "python",
   "nbconvert_exporter": "python",
   "pygments_lexer": "ipython3",
   "version": "3.11.7"
  }
 },
 "nbformat": 4,
 "nbformat_minor": 4
}
